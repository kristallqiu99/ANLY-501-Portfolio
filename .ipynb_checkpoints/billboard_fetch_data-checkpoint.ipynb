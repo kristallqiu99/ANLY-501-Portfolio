{
 "cells": [
  {
   "cell_type": "markdown",
   "metadata": {},
   "source": [
    "## Get chart data"
   ]
  },
  {
   "cell_type": "code",
   "execution_count": 6,
   "metadata": {
    "pycharm": {
     "name": "#%%\n"
    }
   },
   "outputs": [],
   "source": [
    "# import module\n",
    "from billboard_hot_100 import *"
   ]
  },
  {
   "cell_type": "markdown",
   "metadata": {},
   "source": [
    "### Print the chart as a multi-line string\n"
   ]
  },
  {
   "cell_type": "code",
   "execution_count": 2,
   "metadata": {
    "pycharm": {
     "name": "#%%\n"
    }
   },
   "outputs": [
    {
     "name": "stdout",
     "output_type": "stream",
     "text": [
      "hot 100 chart from 2021-09-25\n",
      "-----------------------------\n",
      "1. 'Stay' by The Kid LAROI & Justin Bieber\n",
      "2. 'Way 2 Sexy' by Drake Featuring Future & Young Thug\n",
      "3. 'Bad Habits' by Ed Sheeran\n",
      "4. 'Knife Talk' by Drake Featuring 21 Savage & Project Pat\n",
      "5. 'Fancy Like' by Walker Hayes\n",
      "6. 'Industry Baby' by Lil Nas X & Jack Harlow\n",
      "7. 'Good 4 U' by Olivia Rodrigo\n",
      "8. 'Kiss Me More' by Doja Cat Featuring SZA\n",
      "9. 'Levitating' by Dua Lipa\n",
      "10. 'Girls Want Girls' by Drake Featuring Lil Baby\n",
      "11. 'Fair Trade' by Drake Featuring Travis Scott\n",
      "12. 'Save Your Tears' by The Weeknd & Ariana Grande\n",
      "13. 'Montero (Call Me By Your Name)' by Lil Nas X\n",
      "14. 'Butter' by BTS\n",
      "15. 'Heat Waves' by Glass Animals\n",
      "16. 'Shivers' by Ed Sheeran\n",
      "17. 'Essence' by Wizkid Featuring Justin Bieber & Tems\n",
      "18. 'You Right' by Doja Cat & The Weeknd\n",
      "19. 'Champagne Poetry' by Drake\n",
      "20. 'Deja Vu' by Olivia Rodrigo\n",
      "21. 'Need To Know' by Doja Cat\n",
      "22. 'No Friends In The Industry' by Drake\n",
      "23. 'Take My Breath' by The Weeknd\n",
      "24. 'If I Didn't Love You' by Jason Aldean & Carrie Underwood\n",
      "25. 'Family Ties' by Baby Keem & Kendrick Lamar\n",
      "26. 'Hurricane' by Kanye West\n",
      "27. 'TSU' by Drake\n",
      "28. 'Have Mercy' by Chloe\n",
      "29. 'In The Bible' by Drake Featuring Lil Durk & Giveon\n",
      "30. 'Beggin'' by Maneskin\n",
      "31. 'Leave The Door Open' by Silk Sonic (Bruno Mars & Anderson .Paak)\n",
      "32. 'Leave Before You Love Me' by Marshmello X Jonas Brothers\n",
      "33. 'N 2 Deep' by Drake Featuring Future\n",
      "34. 'Pepas' by Farruko\n",
      "35. 'Love All' by Drake Featuring JAY-Z\n",
      "36. 'Happier Than Ever' by Billie Eilish\n",
      "37. 'Traitor' by Olivia Rodrigo\n",
      "38. 'Things A Man Oughta Know' by Lainey Wilson\n",
      "39. 'Chasing After You' by Ryan Hurd With Maren Morris\n",
      "40. 'Peaches' by Justin Bieber Featuring Daniel Caesar & Giveon\n",
      "41. 'Papi's Home' by Drake\n",
      "42. 'Arcade' by Duncan Laurence\n",
      "43. 'Cold Beer Calling My Name' by Jameson Rodgers Featuring Luke Combs\n",
      "44. 'Rumors' by Lizzo Featuring Cardi B\n",
      "45. 'Pipe Down' by Drake\n",
      "46. 'A-O-K' by Tai Verdes\n",
      "47. 'Country Again' by Thomas Rhett\n",
      "48. 'Thot Shit' by Megan Thee Stallion\n",
      "49. 'Late At Night' by Roddy Ricch\n",
      "50. 'Wockesha' by Moneybagg Yo\n",
      "51. 'Buy Dirt' by Jordan Davis Featuring Luke Bryan\n",
      "52. 'Waves' by Luke Bryan\n",
      "53. 'Range Brothers' by Baby Keem & Kendrick Lamar\n",
      "54. 'Race My Mind' by Drake\n",
      "55. 'Love Again' by Dua Lipa\n",
      "56. 'I Was On A Boat That Day' by Old Dominion\n",
      "57. '7am On Bridle Path' by Drake\n",
      "58. 'Moon' by Kanye West\n",
      "59. 'Wild Side' by Normani Featuring Cardi B\n",
      "60. 'Every Chance I Get' by DJ Khaled Featuring Lil Baby & Lil Durk\n",
      "61. 'Whole Lotta Money' by BIA Featuring Nicki Minaj\n",
      "62. 'Memory I Don't Mess With' by Lee Brice\n",
      "63. 'Life Support' by YoungBoy Never Broke Again\n",
      "64. 'Meet Me At Our Spot' by THE ANXIETY: WILLOW & Tyler Cole\n",
      "65. 'Sharing Locations' by Meek Mill Featuring Lil Baby & Lil Durk\n",
      "66. '2055' by Sleepy Hallow\n",
      "67. 'Woman' by Doja Cat\n",
      "68. 'Lonely' by DaBaby X Lil Wayne\n",
      "69. 'You Time' by Scotty McCreery\n",
      "70. 'Gyalis' by Capella Grey\n",
      "71. 'Skate' by Silk Sonic (Bruno Mars & Anderson .Paak)\n",
      "72. 'IMY2' by Drake Featuring Kid Cudi\n",
      "73. 'Drunk (And I Don't Wanna Go Home)' by Elle King & Miranda Lambert\n",
      "74. 'My Boy' by Elvie Shane\n",
      "75. 'Off The Grid' by Kanye West\n",
      "76. 'Yebba's Heartbreak' by Drake & Yebba\n",
      "77. 'Drinkin' Beer. Talkin' God. Amen.' by Chase Rice Featuring Florida Georgia Line\n",
      "78. 'Get Along Better' by Drake Featuring Ty Dolla $ign\n",
      "79. 'Cold As You' by Luke Combs\n",
      "80. 'Volvi' by Aventura x Bad Bunny\n",
      "81. 'Memory' by Kane Brown X blackbear\n",
      "82. 'Todo de Ti' by Rauw Alejandro\n",
      "83. 'You Only Live Twice' by Drake Featuring Lil Wayne & Rick Ross\n",
      "84. 'Lalisa' by Lisa\n",
      "85. 'Get Into It (Yuh)' by Doja Cat\n",
      "86. 'Fountains' by Drake Featuring Tems\n",
      "87. 'Yonaguni' by Bad Bunny\n",
      "88. 'Don't Go Yet' by Camila Cabello\n",
      "89. 'Single Saturday Night' by Cole Swindell\n",
      "90. 'In Da Getto' by J Balvin & Skrillex\n",
      "91. 'Thinking 'Bout You' by Dustin Lynch Featuring Lauren Alaina Or MacKenzie Porter\n",
      "92. 'You Should Probably Leave' by Chris Stapleton\n",
      "93. 'Summer Of Love' by Shawn Mendes & Tainy\n",
      "94. 'Baddest' by Yung Bleu, Chris Brown & 2 Chainz\n",
      "95. 'Come Through' by H.E.R. Featuring Chris Brown\n",
      "96. 'We Didn't Have Much' by Justin Moore\n",
      "97. 'Ain't Shit' by Doja Cat\n",
      "98. 'Cold Heart (PNAU Remix)' by Elton John & Dua Lipa\n",
      "99. 'Jail' by Kanye West\n",
      "100. 'Knowing You' by Kenny Chesney\n"
     ]
    }
   ],
   "source": [
    "print(Chart()) # date=None means fetch the latest chart\n"
   ]
  },
  {
   "cell_type": "markdown",
   "metadata": {
    "pycharm": {
     "name": "#%% md\n"
    }
   },
   "source": [
    "### Chart data as a dataframe"
   ]
  },
  {
   "cell_type": "code",
   "execution_count": 3,
   "metadata": {
    "pycharm": {
     "name": "#%%\n"
    }
   },
   "outputs": [
    {
     "data": {
      "text/html": [
       "<div>\n",
       "<style scoped>\n",
       "    .dataframe tbody tr th:only-of-type {\n",
       "        vertical-align: middle;\n",
       "    }\n",
       "\n",
       "    .dataframe tbody tr th {\n",
       "        vertical-align: top;\n",
       "    }\n",
       "\n",
       "    .dataframe thead th {\n",
       "        text-align: right;\n",
       "    }\n",
       "</style>\n",
       "<table border=\"1\" class=\"dataframe\">\n",
       "  <thead>\n",
       "    <tr style=\"text-align: right;\">\n",
       "      <th></th>\n",
       "      <th>artist</th>\n",
       "      <th>isNew</th>\n",
       "      <th>last</th>\n",
       "      <th>peak</th>\n",
       "      <th>rank</th>\n",
       "      <th>title</th>\n",
       "      <th>week</th>\n",
       "      <th>date</th>\n",
       "    </tr>\n",
       "  </thead>\n",
       "  <tbody>\n",
       "    <tr>\n",
       "      <th>0</th>\n",
       "      <td>The Kid LAROI &amp; Justin Bieber</td>\n",
       "      <td>False</td>\n",
       "      <td>6</td>\n",
       "      <td>1</td>\n",
       "      <td>1</td>\n",
       "      <td>Stay</td>\n",
       "      <td>10</td>\n",
       "      <td>2021-09-25</td>\n",
       "    </tr>\n",
       "    <tr>\n",
       "      <th>1</th>\n",
       "      <td>Drake Featuring Future &amp; Young Thug</td>\n",
       "      <td>False</td>\n",
       "      <td>1</td>\n",
       "      <td>1</td>\n",
       "      <td>2</td>\n",
       "      <td>Way 2 Sexy</td>\n",
       "      <td>2</td>\n",
       "      <td>2021-09-25</td>\n",
       "    </tr>\n",
       "    <tr>\n",
       "      <th>2</th>\n",
       "      <td>Ed Sheeran</td>\n",
       "      <td>False</td>\n",
       "      <td>13</td>\n",
       "      <td>2</td>\n",
       "      <td>3</td>\n",
       "      <td>Bad Habits</td>\n",
       "      <td>12</td>\n",
       "      <td>2021-09-25</td>\n",
       "    </tr>\n",
       "    <tr>\n",
       "      <th>3</th>\n",
       "      <td>Drake Featuring 21 Savage &amp; Project Pat</td>\n",
       "      <td>False</td>\n",
       "      <td>5</td>\n",
       "      <td>4</td>\n",
       "      <td>4</td>\n",
       "      <td>Knife Talk</td>\n",
       "      <td>2</td>\n",
       "      <td>2021-09-25</td>\n",
       "    </tr>\n",
       "    <tr>\n",
       "      <th>4</th>\n",
       "      <td>Walker Hayes</td>\n",
       "      <td>False</td>\n",
       "      <td>21</td>\n",
       "      <td>5</td>\n",
       "      <td>5</td>\n",
       "      <td>Fancy Like</td>\n",
       "      <td>13</td>\n",
       "      <td>2021-09-25</td>\n",
       "    </tr>\n",
       "    <tr>\n",
       "      <th>...</th>\n",
       "      <td>...</td>\n",
       "      <td>...</td>\n",
       "      <td>...</td>\n",
       "      <td>...</td>\n",
       "      <td>...</td>\n",
       "      <td>...</td>\n",
       "      <td>...</td>\n",
       "      <td>...</td>\n",
       "    </tr>\n",
       "    <tr>\n",
       "      <th>95</th>\n",
       "      <td>Justin Moore</td>\n",
       "      <td>False</td>\n",
       "      <td>81</td>\n",
       "      <td>41</td>\n",
       "      <td>96</td>\n",
       "      <td>We Didn't Have Much</td>\n",
       "      <td>13</td>\n",
       "      <td>2021-09-25</td>\n",
       "    </tr>\n",
       "    <tr>\n",
       "      <th>96</th>\n",
       "      <td>Doja Cat</td>\n",
       "      <td>False</td>\n",
       "      <td>97</td>\n",
       "      <td>24</td>\n",
       "      <td>97</td>\n",
       "      <td>Ain't Shit</td>\n",
       "      <td>12</td>\n",
       "      <td>2021-09-25</td>\n",
       "    </tr>\n",
       "    <tr>\n",
       "      <th>97</th>\n",
       "      <td>Elton John &amp; Dua Lipa</td>\n",
       "      <td>False</td>\n",
       "      <td>0</td>\n",
       "      <td>81</td>\n",
       "      <td>98</td>\n",
       "      <td>Cold Heart (PNAU Remix)</td>\n",
       "      <td>2</td>\n",
       "      <td>2021-09-25</td>\n",
       "    </tr>\n",
       "    <tr>\n",
       "      <th>98</th>\n",
       "      <td>Kanye West</td>\n",
       "      <td>False</td>\n",
       "      <td>58</td>\n",
       "      <td>10</td>\n",
       "      <td>99</td>\n",
       "      <td>Jail</td>\n",
       "      <td>3</td>\n",
       "      <td>2021-09-25</td>\n",
       "    </tr>\n",
       "    <tr>\n",
       "      <th>99</th>\n",
       "      <td>Kenny Chesney</td>\n",
       "      <td>False</td>\n",
       "      <td>0</td>\n",
       "      <td>87</td>\n",
       "      <td>100</td>\n",
       "      <td>Knowing You</td>\n",
       "      <td>5</td>\n",
       "      <td>2021-09-25</td>\n",
       "    </tr>\n",
       "  </tbody>\n",
       "</table>\n",
       "<p>100 rows × 8 columns</p>\n",
       "</div>"
      ],
      "text/plain": [
       "                                     artist  isNew  last  peak rank  \\\n",
       "0             The Kid LAROI & Justin Bieber  False     6     1    1   \n",
       "1       Drake Featuring Future & Young Thug  False     1     1    2   \n",
       "2                                Ed Sheeran  False    13     2    3   \n",
       "3   Drake Featuring 21 Savage & Project Pat  False     5     4    4   \n",
       "4                              Walker Hayes  False    21     5    5   \n",
       "..                                      ...    ...   ...   ...  ...   \n",
       "95                             Justin Moore  False    81    41   96   \n",
       "96                                 Doja Cat  False    97    24   97   \n",
       "97                    Elton John & Dua Lipa  False     0    81   98   \n",
       "98                               Kanye West  False    58    10   99   \n",
       "99                            Kenny Chesney  False     0    87  100   \n",
       "\n",
       "                      title  week        date  \n",
       "0                      Stay    10  2021-09-25  \n",
       "1                Way 2 Sexy     2  2021-09-25  \n",
       "2                Bad Habits    12  2021-09-25  \n",
       "3                Knife Talk     2  2021-09-25  \n",
       "4                Fancy Like    13  2021-09-25  \n",
       "..                      ...   ...         ...  \n",
       "95      We Didn't Have Much    13  2021-09-25  \n",
       "96               Ain't Shit    12  2021-09-25  \n",
       "97  Cold Heart (PNAU Remix)     2  2021-09-25  \n",
       "98                     Jail     3  2021-09-25  \n",
       "99              Knowing You     5  2021-09-25  \n",
       "\n",
       "[100 rows x 8 columns]"
      ]
     },
     "execution_count": 3,
     "metadata": {},
     "output_type": "execute_result"
    }
   ],
   "source": [
    "chart = Chart()\n",
    "chart.dataframe()"
   ]
  },
  {
   "cell_type": "markdown",
   "metadata": {
    "pycharm": {
     "name": "#%% md\n"
    }
   },
   "source": [
    "### Output the chart as a csv file"
   ]
  },
  {
   "cell_type": "code",
   "execution_count": null,
   "metadata": {
    "pycharm": {
     "name": "#%%\n"
    }
   },
   "outputs": [
    {
     "name": "stdout",
     "output_type": "stream",
     "text": [
      "Outputting chart at 2001-02-03 ...\n",
      "Outputting chart at 2001-03-03 ...\n",
      "Outputting chart at 2001-03-31 ...\n",
      "Outputting chart at 2001-05-05 ...\n",
      "Outputting chart at 2001-06-02 ...\n",
      "Outputting chart at 2001-06-30 ...\n",
      "Outputting chart at 2001-08-04 ...\n"
     ]
    }
   ],
   "source": [
    "year = [str(i) for i in range(2000, 2021)]\n",
    "mmdd = ['01-31', '02-28', '03-31', '04-30', '05-31', '06-30',\n",
    "        '07-31', '08-31', '09-30', '10-31', '11-30', '12-31']\n",
    "for y in year[1:]:\n",
    "    for md in mmdd:\n",
    "        Chart(y+'-'+md).csv('billboard_data/')"
   ]
  },
  {
   "cell_type": "code",
   "execution_count": null,
   "metadata": {},
   "outputs": [],
   "source": []
  }
 ],
 "metadata": {
  "kernelspec": {
   "display_name": "Python 3 (ipykernel)",
   "language": "python",
   "name": "python3"
  },
  "language_info": {
   "codemirror_mode": {
    "name": "ipython",
    "version": 3
   },
   "file_extension": ".py",
   "mimetype": "text/x-python",
   "name": "python",
   "nbconvert_exporter": "python",
   "pygments_lexer": "ipython3",
   "version": "3.8.3"
  }
 },
 "nbformat": 4,
 "nbformat_minor": 1
}
