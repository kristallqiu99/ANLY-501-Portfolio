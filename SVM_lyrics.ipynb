{
 "cells": [
  {
   "cell_type": "code",
   "execution_count": 1,
   "id": "fac8614f",
   "metadata": {},
   "outputs": [],
   "source": [
    "import pandas as pd\n",
    "import numpy as np\n",
    "import matplotlib.pyplot as plt\n",
    "import seaborn as sns\n",
    "from sklearn.model_selection import train_test_split\n",
    "from sklearn.feature_extraction.text import TfidfTransformer\n",
    "from sklearn.model_selection import GridSearchCV\n",
    "from sklearn.svm import SVC\n",
    "from sklearn.metrics import confusion_matrix, plot_confusion_matrix\n",
    "from sklearn.metrics import classification_report"
   ]
  },
  {
   "cell_type": "code",
   "execution_count": 2,
   "id": "b26c757c",
   "metadata": {},
   "outputs": [
    {
     "data": {
      "text/html": [
       "<div>\n",
       "<style scoped>\n",
       "    .dataframe tbody tr th:only-of-type {\n",
       "        vertical-align: middle;\n",
       "    }\n",
       "\n",
       "    .dataframe tbody tr th {\n",
       "        vertical-align: top;\n",
       "    }\n",
       "\n",
       "    .dataframe thead th {\n",
       "        text-align: right;\n",
       "    }\n",
       "</style>\n",
       "<table border=\"1\" class=\"dataframe\">\n",
       "  <thead>\n",
       "    <tr style=\"text-align: right;\">\n",
       "      <th></th>\n",
       "      <th>afraid</th>\n",
       "      <th>aliv</th>\n",
       "      <th>allah</th>\n",
       "      <th>alon</th>\n",
       "      <th>alreadi</th>\n",
       "      <th>alright</th>\n",
       "      <th>alway</th>\n",
       "      <th>angel</th>\n",
       "      <th>anoth</th>\n",
       "      <th>answer</th>\n",
       "      <th>...</th>\n",
       "      <th>wonder</th>\n",
       "      <th>word</th>\n",
       "      <th>work</th>\n",
       "      <th>world</th>\n",
       "      <th>worri</th>\n",
       "      <th>write</th>\n",
       "      <th>wrong</th>\n",
       "      <th>yeah</th>\n",
       "      <th>year</th>\n",
       "      <th>young</th>\n",
       "    </tr>\n",
       "  </thead>\n",
       "  <tbody>\n",
       "    <tr>\n",
       "      <th>0</th>\n",
       "      <td>0.0</td>\n",
       "      <td>0.0</td>\n",
       "      <td>0.0</td>\n",
       "      <td>0.00000</td>\n",
       "      <td>0.0</td>\n",
       "      <td>0.0</td>\n",
       "      <td>0.000000</td>\n",
       "      <td>0.000000</td>\n",
       "      <td>0.000000</td>\n",
       "      <td>0.0</td>\n",
       "      <td>...</td>\n",
       "      <td>0.0</td>\n",
       "      <td>0.000000</td>\n",
       "      <td>0.0</td>\n",
       "      <td>0.0</td>\n",
       "      <td>0.0</td>\n",
       "      <td>0.0</td>\n",
       "      <td>0.000000</td>\n",
       "      <td>0.000000</td>\n",
       "      <td>0.000000</td>\n",
       "      <td>0.0</td>\n",
       "    </tr>\n",
       "    <tr>\n",
       "      <th>1</th>\n",
       "      <td>0.0</td>\n",
       "      <td>0.0</td>\n",
       "      <td>0.0</td>\n",
       "      <td>0.00000</td>\n",
       "      <td>0.0</td>\n",
       "      <td>0.0</td>\n",
       "      <td>0.204201</td>\n",
       "      <td>0.000000</td>\n",
       "      <td>0.076755</td>\n",
       "      <td>0.0</td>\n",
       "      <td>...</td>\n",
       "      <td>0.0</td>\n",
       "      <td>0.000000</td>\n",
       "      <td>0.0</td>\n",
       "      <td>0.0</td>\n",
       "      <td>0.0</td>\n",
       "      <td>0.0</td>\n",
       "      <td>0.000000</td>\n",
       "      <td>0.049044</td>\n",
       "      <td>0.000000</td>\n",
       "      <td>0.0</td>\n",
       "    </tr>\n",
       "    <tr>\n",
       "      <th>2</th>\n",
       "      <td>0.0</td>\n",
       "      <td>0.0</td>\n",
       "      <td>0.0</td>\n",
       "      <td>0.00000</td>\n",
       "      <td>0.0</td>\n",
       "      <td>0.0</td>\n",
       "      <td>0.000000</td>\n",
       "      <td>0.000000</td>\n",
       "      <td>0.000000</td>\n",
       "      <td>0.0</td>\n",
       "      <td>...</td>\n",
       "      <td>0.0</td>\n",
       "      <td>0.098855</td>\n",
       "      <td>0.0</td>\n",
       "      <td>0.0</td>\n",
       "      <td>0.0</td>\n",
       "      <td>0.0</td>\n",
       "      <td>0.000000</td>\n",
       "      <td>0.062753</td>\n",
       "      <td>0.000000</td>\n",
       "      <td>0.0</td>\n",
       "    </tr>\n",
       "    <tr>\n",
       "      <th>3</th>\n",
       "      <td>0.0</td>\n",
       "      <td>0.0</td>\n",
       "      <td>0.0</td>\n",
       "      <td>0.00000</td>\n",
       "      <td>0.0</td>\n",
       "      <td>0.0</td>\n",
       "      <td>0.000000</td>\n",
       "      <td>0.000000</td>\n",
       "      <td>0.000000</td>\n",
       "      <td>0.0</td>\n",
       "      <td>...</td>\n",
       "      <td>0.0</td>\n",
       "      <td>0.416135</td>\n",
       "      <td>0.0</td>\n",
       "      <td>0.0</td>\n",
       "      <td>0.0</td>\n",
       "      <td>0.0</td>\n",
       "      <td>0.000000</td>\n",
       "      <td>0.000000</td>\n",
       "      <td>0.112594</td>\n",
       "      <td>0.0</td>\n",
       "    </tr>\n",
       "    <tr>\n",
       "      <th>4</th>\n",
       "      <td>0.0</td>\n",
       "      <td>0.0</td>\n",
       "      <td>0.0</td>\n",
       "      <td>0.00000</td>\n",
       "      <td>0.0</td>\n",
       "      <td>0.0</td>\n",
       "      <td>0.000000</td>\n",
       "      <td>0.000000</td>\n",
       "      <td>0.000000</td>\n",
       "      <td>0.0</td>\n",
       "      <td>...</td>\n",
       "      <td>0.0</td>\n",
       "      <td>0.000000</td>\n",
       "      <td>0.0</td>\n",
       "      <td>0.0</td>\n",
       "      <td>0.0</td>\n",
       "      <td>0.0</td>\n",
       "      <td>0.000000</td>\n",
       "      <td>0.070135</td>\n",
       "      <td>0.000000</td>\n",
       "      <td>0.0</td>\n",
       "    </tr>\n",
       "    <tr>\n",
       "      <th>...</th>\n",
       "      <td>...</td>\n",
       "      <td>...</td>\n",
       "      <td>...</td>\n",
       "      <td>...</td>\n",
       "      <td>...</td>\n",
       "      <td>...</td>\n",
       "      <td>...</td>\n",
       "      <td>...</td>\n",
       "      <td>...</td>\n",
       "      <td>...</td>\n",
       "      <td>...</td>\n",
       "      <td>...</td>\n",
       "      <td>...</td>\n",
       "      <td>...</td>\n",
       "      <td>...</td>\n",
       "      <td>...</td>\n",
       "      <td>...</td>\n",
       "      <td>...</td>\n",
       "      <td>...</td>\n",
       "      <td>...</td>\n",
       "      <td>...</td>\n",
       "    </tr>\n",
       "    <tr>\n",
       "      <th>20319</th>\n",
       "      <td>0.0</td>\n",
       "      <td>0.0</td>\n",
       "      <td>0.0</td>\n",
       "      <td>0.11921</td>\n",
       "      <td>0.0</td>\n",
       "      <td>0.0</td>\n",
       "      <td>0.000000</td>\n",
       "      <td>0.000000</td>\n",
       "      <td>0.000000</td>\n",
       "      <td>0.0</td>\n",
       "      <td>...</td>\n",
       "      <td>0.0</td>\n",
       "      <td>0.000000</td>\n",
       "      <td>0.0</td>\n",
       "      <td>0.0</td>\n",
       "      <td>0.0</td>\n",
       "      <td>0.0</td>\n",
       "      <td>0.062285</td>\n",
       "      <td>0.000000</td>\n",
       "      <td>0.000000</td>\n",
       "      <td>0.0</td>\n",
       "    </tr>\n",
       "    <tr>\n",
       "      <th>20320</th>\n",
       "      <td>0.0</td>\n",
       "      <td>0.0</td>\n",
       "      <td>0.0</td>\n",
       "      <td>0.00000</td>\n",
       "      <td>0.0</td>\n",
       "      <td>0.0</td>\n",
       "      <td>0.000000</td>\n",
       "      <td>0.000000</td>\n",
       "      <td>0.054335</td>\n",
       "      <td>0.0</td>\n",
       "      <td>...</td>\n",
       "      <td>0.0</td>\n",
       "      <td>0.054692</td>\n",
       "      <td>0.0</td>\n",
       "      <td>0.0</td>\n",
       "      <td>0.0</td>\n",
       "      <td>0.0</td>\n",
       "      <td>0.000000</td>\n",
       "      <td>0.867968</td>\n",
       "      <td>0.000000</td>\n",
       "      <td>0.0</td>\n",
       "    </tr>\n",
       "    <tr>\n",
       "      <th>20321</th>\n",
       "      <td>0.0</td>\n",
       "      <td>0.0</td>\n",
       "      <td>0.0</td>\n",
       "      <td>0.00000</td>\n",
       "      <td>0.0</td>\n",
       "      <td>0.0</td>\n",
       "      <td>0.000000</td>\n",
       "      <td>0.088289</td>\n",
       "      <td>0.000000</td>\n",
       "      <td>0.0</td>\n",
       "      <td>...</td>\n",
       "      <td>0.0</td>\n",
       "      <td>0.000000</td>\n",
       "      <td>0.0</td>\n",
       "      <td>0.0</td>\n",
       "      <td>0.0</td>\n",
       "      <td>0.0</td>\n",
       "      <td>0.000000</td>\n",
       "      <td>0.128644</td>\n",
       "      <td>0.000000</td>\n",
       "      <td>0.0</td>\n",
       "    </tr>\n",
       "    <tr>\n",
       "      <th>20322</th>\n",
       "      <td>0.0</td>\n",
       "      <td>0.0</td>\n",
       "      <td>0.0</td>\n",
       "      <td>0.00000</td>\n",
       "      <td>0.0</td>\n",
       "      <td>0.0</td>\n",
       "      <td>0.000000</td>\n",
       "      <td>0.000000</td>\n",
       "      <td>0.000000</td>\n",
       "      <td>0.0</td>\n",
       "      <td>...</td>\n",
       "      <td>0.0</td>\n",
       "      <td>0.000000</td>\n",
       "      <td>0.0</td>\n",
       "      <td>0.0</td>\n",
       "      <td>0.0</td>\n",
       "      <td>0.0</td>\n",
       "      <td>0.000000</td>\n",
       "      <td>0.032117</td>\n",
       "      <td>0.000000</td>\n",
       "      <td>0.0</td>\n",
       "    </tr>\n",
       "    <tr>\n",
       "      <th>20323</th>\n",
       "      <td>0.0</td>\n",
       "      <td>0.0</td>\n",
       "      <td>0.0</td>\n",
       "      <td>0.00000</td>\n",
       "      <td>0.0</td>\n",
       "      <td>0.0</td>\n",
       "      <td>0.000000</td>\n",
       "      <td>0.000000</td>\n",
       "      <td>0.000000</td>\n",
       "      <td>0.0</td>\n",
       "      <td>...</td>\n",
       "      <td>0.0</td>\n",
       "      <td>0.000000</td>\n",
       "      <td>0.0</td>\n",
       "      <td>0.0</td>\n",
       "      <td>0.0</td>\n",
       "      <td>0.0</td>\n",
       "      <td>0.000000</td>\n",
       "      <td>0.000000</td>\n",
       "      <td>0.000000</td>\n",
       "      <td>0.0</td>\n",
       "    </tr>\n",
       "  </tbody>\n",
       "</table>\n",
       "<p>20324 rows × 403 columns</p>\n",
       "</div>"
      ],
      "text/plain": [
       "       afraid  aliv  allah     alon  alreadi  alright     alway     angel  \\\n",
       "0         0.0   0.0    0.0  0.00000      0.0      0.0  0.000000  0.000000   \n",
       "1         0.0   0.0    0.0  0.00000      0.0      0.0  0.204201  0.000000   \n",
       "2         0.0   0.0    0.0  0.00000      0.0      0.0  0.000000  0.000000   \n",
       "3         0.0   0.0    0.0  0.00000      0.0      0.0  0.000000  0.000000   \n",
       "4         0.0   0.0    0.0  0.00000      0.0      0.0  0.000000  0.000000   \n",
       "...       ...   ...    ...      ...      ...      ...       ...       ...   \n",
       "20319     0.0   0.0    0.0  0.11921      0.0      0.0  0.000000  0.000000   \n",
       "20320     0.0   0.0    0.0  0.00000      0.0      0.0  0.000000  0.000000   \n",
       "20321     0.0   0.0    0.0  0.00000      0.0      0.0  0.000000  0.088289   \n",
       "20322     0.0   0.0    0.0  0.00000      0.0      0.0  0.000000  0.000000   \n",
       "20323     0.0   0.0    0.0  0.00000      0.0      0.0  0.000000  0.000000   \n",
       "\n",
       "          anoth  answer  ...  wonder      word  work  world  worri  write  \\\n",
       "0      0.000000     0.0  ...     0.0  0.000000   0.0    0.0    0.0    0.0   \n",
       "1      0.076755     0.0  ...     0.0  0.000000   0.0    0.0    0.0    0.0   \n",
       "2      0.000000     0.0  ...     0.0  0.098855   0.0    0.0    0.0    0.0   \n",
       "3      0.000000     0.0  ...     0.0  0.416135   0.0    0.0    0.0    0.0   \n",
       "4      0.000000     0.0  ...     0.0  0.000000   0.0    0.0    0.0    0.0   \n",
       "...         ...     ...  ...     ...       ...   ...    ...    ...    ...   \n",
       "20319  0.000000     0.0  ...     0.0  0.000000   0.0    0.0    0.0    0.0   \n",
       "20320  0.054335     0.0  ...     0.0  0.054692   0.0    0.0    0.0    0.0   \n",
       "20321  0.000000     0.0  ...     0.0  0.000000   0.0    0.0    0.0    0.0   \n",
       "20322  0.000000     0.0  ...     0.0  0.000000   0.0    0.0    0.0    0.0   \n",
       "20323  0.000000     0.0  ...     0.0  0.000000   0.0    0.0    0.0    0.0   \n",
       "\n",
       "          wrong      yeah      year  young  \n",
       "0      0.000000  0.000000  0.000000    0.0  \n",
       "1      0.000000  0.049044  0.000000    0.0  \n",
       "2      0.000000  0.062753  0.000000    0.0  \n",
       "3      0.000000  0.000000  0.112594    0.0  \n",
       "4      0.000000  0.070135  0.000000    0.0  \n",
       "...         ...       ...       ...    ...  \n",
       "20319  0.062285  0.000000  0.000000    0.0  \n",
       "20320  0.000000  0.867968  0.000000    0.0  \n",
       "20321  0.000000  0.128644  0.000000    0.0  \n",
       "20322  0.000000  0.032117  0.000000    0.0  \n",
       "20323  0.000000  0.000000  0.000000    0.0  \n",
       "\n",
       "[20324 rows x 403 columns]"
      ]
     },
     "execution_count": 2,
     "metadata": {},
     "output_type": "execute_result"
    }
   ],
   "source": [
    "df = pd.read_csv('LyricsCV.csv')\n",
    "df_t = pd.DataFrame(TfidfTransformer().fit_transform(df).toarray(), columns=df.columns)\n",
    "label = pd.read_csv('lyrics_processed.csv')['hit']\n",
    "df_t"
   ]
  },
  {
   "cell_type": "code",
   "execution_count": 13,
   "id": "8b360ecd",
   "metadata": {},
   "outputs": [],
   "source": [
    "df_sample = df_t.copy()\n",
    "df_sample['hit'] = label\n",
    "df_sample = df_sample.sample(1000)"
   ]
  },
  {
   "cell_type": "code",
   "execution_count": 4,
   "id": "77651f34",
   "metadata": {},
   "outputs": [
    {
     "name": "stdout",
     "output_type": "stream",
     "text": [
      "Training set dim: (16259, 403)\n",
      "Testing set dim: (4065, 403)\n"
     ]
    }
   ],
   "source": [
    "X_train, X_test, y_train, y_test = train_test_split(df_t, label, test_size=0.2, random_state=42)\n",
    "print('Training set dim:', X_train.shape)\n",
    "print('Testing set dim:', X_test.shape)"
   ]
  },
  {
   "cell_type": "code",
   "execution_count": 5,
   "id": "f9085c12",
   "metadata": {},
   "outputs": [],
   "source": [
    "def performance(cm):\n",
    "    TN = cm[0, 0]\n",
    "    FP = cm[0, 1]\n",
    "    FN = cm[1, 0]\n",
    "    TP = cm[1, 1]\n",
    "    \n",
    "    print('Sensitivity : ', TP/(TP+FN))\n",
    "    print('Specificity : ', TN/(TN+FP))\n",
    "    print('Precision : ', TP/(TP+FP))\n",
    "    print('Negative predictive value : ', TN/(TN+FN))\n",
    "    print('False positive rate : ', FP/(FP+TN))\n",
    "    print('False negative rate : ', FN/(TP+FN))\n",
    "    print('False discovery rate : ', FP/(TP+FP))\n",
    "    print('Accuracy : ', (TP+TN)/(TP+FP+FN+TN) )"
   ]
  },
  {
   "cell_type": "markdown",
   "id": "6b2dbbbf",
   "metadata": {},
   "source": [
    "# Poly"
   ]
  },
  {
   "cell_type": "code",
   "execution_count": 14,
   "id": "f62cec2a",
   "metadata": {},
   "outputs": [
    {
     "name": "stdout",
     "output_type": "stream",
     "text": [
      "SVC(C=1, gamma=1, kernel='poly')\n"
     ]
    }
   ],
   "source": [
    "param_grid = {'C': [0.01, 0.1, 1, 10, 100], \n",
    "              'gamma': [1,0.1,0.01,0.001]}\n",
    "grid = GridSearchCV(SVC(kernel='poly'), param_grid)\n",
    "grid.fit(df_sample.drop(columns=['hit']),df_sample['hit'])\n",
    "print(grid.best_estimator_)"
   ]
  },
  {
   "cell_type": "code",
   "execution_count": 15,
   "id": "7ab8475c",
   "metadata": {},
   "outputs": [
    {
     "data": {
      "text/plain": [
       "<sklearn.metrics._plot.confusion_matrix.ConfusionMatrixDisplay at 0x7f9168feb1f0>"
      ]
     },
     "execution_count": 15,
     "metadata": {},
     "output_type": "execute_result"
    },
    {
     "data": {
      "image/png": "[encoded data removed]",
      "text/plain": [
       "<Figure size 432x288 with 2 Axes>"
      ]
     },
     "metadata": {
      "needs_background": "light"
     },
     "output_type": "display_data"
    }
   ],
   "source": [
    "poly = SVC(kernel='poly', C=1, gamma=1)\n",
    "poly.fit(X_train, y_train)\n",
    "\n",
    "pred_poly = poly.predict(X_test)\n",
    "\n",
    "plot_confusion_matrix(poly, X_test, y_test)"
   ]
  },
  {
   "cell_type": "code",
   "execution_count": 16,
   "id": "7ec9be7c",
   "metadata": {},
   "outputs": [
    {
     "name": "stdout",
     "output_type": "stream",
     "text": [
      "Sensitivity :  0.11242603550295859\n",
      "Specificity :  0.9822956624372972\n",
      "Precision :  0.5588235294117647\n",
      "Negative predictive value :  0.8472893866123695\n",
      "False positive rate :  0.01770433756270286\n",
      "False negative rate :  0.8875739644970414\n",
      "False discovery rate :  0.4411764705882353\n",
      "Accuracy :  0.8376383763837638\n"
     ]
    }
   ],
   "source": [
    "performance(confusion_matrix(y_test, pred_poly))"
   ]
  },
  {
   "cell_type": "markdown",
   "id": "5add534e",
   "metadata": {},
   "source": [
    "# RBF"
   ]
  },
  {
   "cell_type": "code",
   "execution_count": 17,
   "id": "0414b44c",
   "metadata": {},
   "outputs": [
    {
     "name": "stdout",
     "output_type": "stream",
     "text": [
      "SVC(C=1, gamma=1)\n"
     ]
    }
   ],
   "source": [
    "grid = GridSearchCV(SVC(kernel='rbf'), param_grid)\n",
    "grid.fit(df_sample.drop(columns=['hit']),df_sample['hit'])\n",
    "print(grid.best_estimator_)"
   ]
  },
  {
   "cell_type": "code",
   "execution_count": 18,
   "id": "a841a418",
   "metadata": {},
   "outputs": [
    {
     "data": {
      "text/plain": [
       "<sklearn.metrics._plot.confusion_matrix.ConfusionMatrixDisplay at 0x7f91661c7e80>"
      ]
     },
     "execution_count": 18,
     "metadata": {},
     "output_type": "execute_result"
    },
    {
     "data": {
      "image/png": "[encoded data removed]",
      "text/plain": [
       "<Figure size 432x288 with 2 Axes>"
      ]
     },
     "metadata": {
      "needs_background": "light"
     },
     "output_type": "display_data"
    }
   ],
   "source": [
    "rbf = SVC(kernel='rbf', C=1, gamma=1)\n",
    "rbf.fit(X_train, y_train)\n",
    "\n",
    "pred_rbf = rbf.predict(X_test)\n",
    "\n",
    "plot_confusion_matrix(rbf, X_test, y_test)"
   ]
  },
  {
   "cell_type": "code",
   "execution_count": 19,
   "id": "77f78ac5",
   "metadata": {},
   "outputs": [
    {
     "name": "stdout",
     "output_type": "stream",
     "text": [
      "Sensitivity :  0.10946745562130178\n",
      "Specificity :  0.9893773974623783\n",
      "Precision :  0.6727272727272727\n",
      "Negative predictive value :  0.8477876106194691\n",
      "False positive rate :  0.010622602537621718\n",
      "False negative rate :  0.8905325443786982\n",
      "False discovery rate :  0.32727272727272727\n",
      "Accuracy :  0.8430504305043051\n"
     ]
    }
   ],
   "source": [
    "performance(confusion_matrix(y_test, pred_rbf))"
   ]
  },
  {
   "cell_type": "markdown",
   "id": "2abc8ee5",
   "metadata": {},
   "source": [
    "# Sigmoid"
   ]
  },
  {
   "cell_type": "code",
   "execution_count": 20,
   "id": "37d8dea0",
   "metadata": {},
   "outputs": [
    {
     "name": "stdout",
     "output_type": "stream",
     "text": [
      "SVC(C=10, gamma=0.1, kernel='sigmoid')\n"
     ]
    }
   ],
   "source": [
    "grid = GridSearchCV(SVC(kernel='sigmoid'), param_grid)\n",
    "grid.fit(df_sample.drop(columns=['hit']),df_sample['hit'])\n",
    "print(grid.best_estimator_)"
   ]
  },
  {
   "cell_type": "code",
   "execution_count": 21,
   "id": "2cfb6127",
   "metadata": {
    "scrolled": true
   },
   "outputs": [
    {
     "data": {
      "text/plain": [
       "<sklearn.metrics._plot.confusion_matrix.ConfusionMatrixDisplay at 0x7f91690b8220>"
      ]
     },
     "execution_count": 21,
     "metadata": {},
     "output_type": "execute_result"
    },
    {
     "data": {
      "image/png": "[encoded data removed]",
      "text/plain": [
       "<Figure size 432x288 with 2 Axes>"
      ]
     },
     "metadata": {
      "needs_background": "light"
     },
     "output_type": "display_data"
    }
   ],
   "source": [
    "sig = SVC(kernel='sigmoid', C=10, gamma=0.1)\n",
    "sig.fit(X_train, y_train)\n",
    "\n",
    "pred_sig = sig.predict(X_test)\n",
    "\n",
    "plot_confusion_matrix(sig, X_test, y_test)"
   ]
  },
  {
   "cell_type": "code",
   "execution_count": 22,
   "id": "c1f055e5",
   "metadata": {},
   "outputs": [
    {
     "name": "stdout",
     "output_type": "stream",
     "text": [
      "Sensitivity :  0.029585798816568046\n",
      "Specificity :  0.9935084095603423\n",
      "Precision :  0.47619047619047616\n",
      "Negative predictive value :  0.8369376087496893\n",
      "False positive rate :  0.006491590439657716\n",
      "False negative rate :  0.9704142011834319\n",
      "False discovery rate :  0.5238095238095238\n",
      "Accuracy :  0.8332103321033211\n"
     ]
    }
   ],
   "source": [
    "performance(confusion_matrix(y_test, pred_sig))"
   ]
  },
  {
   "cell_type": "markdown",
   "id": "7fb8aac4",
   "metadata": {},
   "source": [
    "# Linear"
   ]
  },
  {
   "cell_type": "code",
   "execution_count": 23,
   "id": "7e9ac9dc",
   "metadata": {},
   "outputs": [
    {
     "name": "stdout",
     "output_type": "stream",
     "text": [
      "SVC(C=1, gamma=1, kernel='linear')\n"
     ]
    }
   ],
   "source": [
    "grid = GridSearchCV(SVC(kernel='linear'), param_grid)\n",
    "grid.fit(df_sample.drop(columns=['hit']),df_sample['hit'])\n",
    "print(grid.best_estimator_)"
   ]
  },
  {
   "cell_type": "code",
   "execution_count": 32,
   "id": "4d302d99",
   "metadata": {},
   "outputs": [
    {
     "data": {
      "text/plain": [
       "<sklearn.metrics._plot.confusion_matrix.ConfusionMatrixDisplay at 0x7f914c352610>"
      ]
     },
     "execution_count": 32,
     "metadata": {},
     "output_type": "execute_result"
    },
    {
     "data": {
      "image/png": "[encoded data removed]",
      "text/plain": [
       "<Figure size 432x288 with 2 Axes>"
      ]
     },
     "metadata": {
      "needs_background": "light"
     },
     "output_type": "display_data"
    }
   ],
   "source": [
    "linear = SVC(kernel='linear', C=1, gamma=1)\n",
    "linear.fit(X_train, y_train)\n",
    "\n",
    "pred_linear = linear.predict(X_test)\n",
    "\n",
    "plot_confusion_matrix(linear, X_test, y_test)"
   ]
  },
  {
   "cell_type": "code",
   "execution_count": 33,
   "id": "056142a6",
   "metadata": {},
   "outputs": [
    {
     "data": {
      "image/png": "[encoded data removed]",
      "text/plain": [
       "<Figure size 432x288 with 1 Axes>"
      ]
     },
     "metadata": {
      "needs_background": "light"
     },
     "output_type": "display_data"
    }
   ],
   "source": [
    "imp = linear.coef_[0]\n",
    "imp, names = zip(*sorted(list(zip(imp, df.columns)),reverse=True))\n",
    "\n",
    "\n",
    "plt.barh(range(15), imp[0:15][::-1], align='center', color='#1DB954')\n",
    "plt.yticks(range(15), names[0:15][::-1])\n",
    "plt.show()"
   ]
  },
  {
   "cell_type": "code",
   "execution_count": 35,
   "id": "b15dc107",
   "metadata": {},
   "outputs": [
    {
     "name": "stderr",
     "output_type": "stream",
     "text": [
      "/var/folders/lv/snv97l992c5ctbbxj96wt76w0000gn/T/ipykernel_11746/1519123685.py:3: SettingWithCopyWarning: \n",
      "A value is trying to be set on a copy of a slice from a DataFrame.\n",
      "Try using .loc[row_indexer,col_indexer] = value instead\n",
      "\n",
      "See the caveats in the documentation: https://pandas.pydata.org/pandas-docs/stable/user_guide/indexing.html#returning-a-view-versus-a-copy\n",
      "  top['hit'] = label\n"
     ]
    },
    {
     "data": {
      "image/png": "[encoded data removed]",
      "text/plain": [
       "<Figure size 576x360 with 1 Axes>"
      ]
     },
     "metadata": {},
     "output_type": "display_data"
    }
   ],
   "source": [
    "sns.set_style(\"whitegrid\")\n",
    "top = df[list(names[0:15][::])]\n",
    "top['hit'] = label\n",
    "df_melted = pd.melt(top.groupby('hit').mean().T.reset_index(), id_vars=['index'], value_vars=[0.0,1.0])\n",
    "df_melted.columns = ['word','hit','mean_count']\n",
    "fig,ax = plt.subplots(figsize=(8,5))\n",
    "ax = sns.barplot(data=df_melted, x='word', y='mean_count', hue='hit')\n",
    "ax.set_xticklabels(ax.get_xticklabels(), rotation=60)\n",
    "plt.show()"
   ]
  },
  {
   "cell_type": "code",
   "execution_count": null,
   "id": "e31571cb",
   "metadata": {},
   "outputs": [],
   "source": []
  }
 ],
 "metadata": {
  "kernelspec": {
   "display_name": "Python 3 (ipykernel)",
   "language": "python",
   "name": "python3"
  },
  "language_info": {
   "codemirror_mode": {
    "name": "ipython",
    "version": 3
   },
   "file_extension": ".py",
   "mimetype": "text/x-python",
   "name": "python",
   "nbconvert_exporter": "python",
   "pygments_lexer": "ipython3",
   "version": "3.8.2"
  }
 },
 "nbformat": 4,
 "nbformat_minor": 5
}
