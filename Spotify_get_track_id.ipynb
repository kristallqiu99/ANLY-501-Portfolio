{
 "cells": [
  {
   "cell_type": "code",
   "execution_count": 1,
   "id": "0488bd5c",
   "metadata": {},
   "outputs": [],
   "source": [
    "import pandas as pd\n",
    "import numpy as np\n",
    "import requests"
   ]
  },
  {
   "cell_type": "markdown",
   "id": "dd5e7b95",
   "metadata": {},
   "source": [
    "## Get song list"
   ]
  },
  {
   "cell_type": "code",
   "execution_count": 2,
   "id": "8a002ae4",
   "metadata": {},
   "outputs": [
    {
     "data": {
      "text/html": [
       "<div>\n",
       "<style scoped>\n",
       "    .dataframe tbody tr th:only-of-type {\n",
       "        vertical-align: middle;\n",
       "    }\n",
       "\n",
       "    .dataframe tbody tr th {\n",
       "        vertical-align: top;\n",
       "    }\n",
       "\n",
       "    .dataframe thead th {\n",
       "        text-align: right;\n",
       "    }\n",
       "</style>\n",
       "<table border=\"1\" class=\"dataframe\">\n",
       "  <thead>\n",
       "    <tr style=\"text-align: right;\">\n",
       "      <th></th>\n",
       "      <th>title</th>\n",
       "      <th>artist_x</th>\n",
       "      <th>artist_y</th>\n",
       "    </tr>\n",
       "  </thead>\n",
       "  <tbody>\n",
       "    <tr>\n",
       "      <th>0</th>\n",
       "      <td>(I Called Her) Tennessee</td>\n",
       "      <td>Tim Dugger</td>\n",
       "      <td>NaN</td>\n",
       "    </tr>\n",
       "    <tr>\n",
       "      <th>1</th>\n",
       "      <td>10,000 Reasons (Bless the Lord)</td>\n",
       "      <td>Matt Redman</td>\n",
       "      <td>NaN</td>\n",
       "    </tr>\n",
       "    <tr>\n",
       "      <th>2</th>\n",
       "      <td>100 Proof</td>\n",
       "      <td>Kellie Pickler</td>\n",
       "      <td>NaN</td>\n",
       "    </tr>\n",
       "    <tr>\n",
       "      <th>3</th>\n",
       "      <td>101</td>\n",
       "      <td>Alicia Keys</td>\n",
       "      <td>NaN</td>\n",
       "    </tr>\n",
       "    <tr>\n",
       "      <th>4</th>\n",
       "      <td>110%</td>\n",
       "      <td>Jessie Ware</td>\n",
       "      <td>NaN</td>\n",
       "    </tr>\n",
       "    <tr>\n",
       "      <th>...</th>\n",
       "      <td>...</td>\n",
       "      <td>...</td>\n",
       "      <td>...</td>\n",
       "    </tr>\n",
       "    <tr>\n",
       "      <th>21310</th>\n",
       "      <td>Danny Phantom</td>\n",
       "      <td>Trippie Redd</td>\n",
       "      <td>Trippie Redd Featuring XXXTENTACION</td>\n",
       "    </tr>\n",
       "    <tr>\n",
       "      <th>21311</th>\n",
       "      <td>What's Wrong</td>\n",
       "      <td>Rod Wave</td>\n",
       "      <td>Rod Wave</td>\n",
       "    </tr>\n",
       "    <tr>\n",
       "      <th>21312</th>\n",
       "      <td>Demon Time</td>\n",
       "      <td>Trippie Redd</td>\n",
       "      <td>Trippie Redd Featuring Ski Mask The Slump God</td>\n",
       "    </tr>\n",
       "    <tr>\n",
       "      <th>21313</th>\n",
       "      <td>Tick Tock</td>\n",
       "      <td>Young Thug</td>\n",
       "      <td>Young Thug</td>\n",
       "    </tr>\n",
       "    <tr>\n",
       "      <th>21314</th>\n",
       "      <td>Time Heals</td>\n",
       "      <td>Rod Wave</td>\n",
       "      <td>Rod Wave</td>\n",
       "    </tr>\n",
       "  </tbody>\n",
       "</table>\n",
       "<p>21315 rows × 3 columns</p>\n",
       "</div>"
      ],
      "text/plain": [
       "                                 title        artist_x  \\\n",
       "0             (I Called Her) Tennessee      Tim Dugger   \n",
       "1      10,000 Reasons (Bless the Lord)     Matt Redman   \n",
       "2                            100 Proof  Kellie Pickler   \n",
       "3                                  101     Alicia Keys   \n",
       "4                                 110%     Jessie Ware   \n",
       "...                                ...             ...   \n",
       "21310                    Danny Phantom    Trippie Redd   \n",
       "21311                     What's Wrong        Rod Wave   \n",
       "21312                       Demon Time    Trippie Redd   \n",
       "21313                        Tick Tock      Young Thug   \n",
       "21314                       Time Heals        Rod Wave   \n",
       "\n",
       "                                            artist_y  \n",
       "0                                                NaN  \n",
       "1                                                NaN  \n",
       "2                                                NaN  \n",
       "3                                                NaN  \n",
       "4                                                NaN  \n",
       "...                                              ...  \n",
       "21310            Trippie Redd Featuring XXXTENTACION  \n",
       "21311                                       Rod Wave  \n",
       "21312  Trippie Redd Featuring Ski Mask The Slump God  \n",
       "21313                                     Young Thug  \n",
       "21314                                       Rod Wave  \n",
       "\n",
       "[21315 rows x 3 columns]"
      ]
     },
     "execution_count": 2,
     "metadata": {},
     "output_type": "execute_result"
    }
   ],
   "source": [
    "# load dataset - songs & artist\n",
    "df = pd.read_csv('merge_w_lyrics_full.csv')[['title', 'artist_x', 'artist_y']]\n",
    "df"
   ]
  },
  {
   "cell_type": "code",
   "execution_count": 7,
   "id": "061b907e",
   "metadata": {},
   "outputs": [],
   "source": [
    "track_id = [np.nan] * len(df)\n",
    "date = [np.nan] * len(df)"
   ]
  },
  {
   "cell_type": "markdown",
   "id": "e39f4661",
   "metadata": {},
   "source": [
    "## Song index range of each year"
   ]
  },
  {
   "cell_type": "code",
   "execution_count": 4,
   "id": "b34f0f5c",
   "metadata": {},
   "outputs": [
    {
     "data": {
      "text/plain": [
       "{'2012': range(0, 2620),\n",
       " '2013': range(2620, 5517),\n",
       " '2014': range(5517, 8415),\n",
       " '2015': range(8415, 11035),\n",
       " '2016': range(11035, 13118),\n",
       " '2017': range(13118, 15146),\n",
       " '2018': range(15146, 16723),\n",
       " '2019': range(16723, 18107),\n",
       " '2020': range(18107, 19381),\n",
       " '2021': range(19381, 20027)}"
      ]
     },
     "execution_count": 4,
     "metadata": {},
     "output_type": "execute_result"
    }
   ],
   "source": [
    "import os\n",
    "\n",
    "filename = [f for f in os.listdir('song_release')]\n",
    "filename.remove('.DS_Store')\n",
    "filename = sorted([f for f in filename if int(f[:4]) in range(2012, 2022)])\n",
    "\n",
    "year_idx = {}\n",
    "counter = 0\n",
    "for i in range(0, len(filename)):\n",
    "    year_idx[filename[i][:4]] = range(counter, counter + len(pd.read_csv('song_release/'+filename[i])))\n",
    "    counter += len(pd.read_csv('song_release/'+filename[i]))\n",
    "\n",
    "year_idx"
   ]
  },
  {
   "cell_type": "markdown",
   "id": "428ca5fc",
   "metadata": {},
   "source": [
    "## Search for *track_id* and *release_date*"
   ]
  },
  {
   "cell_type": "code",
   "execution_count": 229,
   "id": "8797a7e1",
   "metadata": {
    "scrolled": true
   },
   "outputs": [
    {
     "name": "stderr",
     "output_type": "stream",
     "text": [
      "/var/folders/lv/snv97l992c5ctbbxj96wt76w0000gn/T/ipykernel_12303/1991702567.py:41: SettingWithCopyWarning: \n",
      "A value is trying to be set on a copy of a slice from a DataFrame\n",
      "\n",
      "See the caveats in the documentation: https://pandas.pydata.org/pandas-docs/stable/user_guide/indexing.html#returning-a-view-versus-a-copy\n",
      "  sub['track_id'][i] = item['id']\n",
      "/var/folders/lv/snv97l992c5ctbbxj96wt76w0000gn/T/ipykernel_12303/1991702567.py:42: SettingWithCopyWarning: \n",
      "A value is trying to be set on a copy of a slice from a DataFrame\n",
      "\n",
      "See the caveats in the documentation: https://pandas.pydata.org/pandas-docs/stable/user_guide/indexing.html#returning-a-view-versus-a-copy\n",
      "  sub['release_data'][i] = item['album']['release_date']\n"
     ]
    },
    {
     "name": "stdout",
     "output_type": "stream",
     "text": [
      "5359 4zJVt5xo6CgtQ7QGdvvDuL\n",
      "5381 1LeWh0PHKHYNfxi358UcTi\n"
     ]
    }
   ],
   "source": [
    "CLIENT_ID = '6ced8cf12e0c470f9d9dd25a75d4ec26'\n",
    "CLIENT_SECRET = '4ce366cebd7c42f2ac59bf96ca9f32b9'\n",
    "\n",
    "AUTH_URL = 'https://accounts.spotify.com/api/token'\n",
    "\n",
    "# POST\n",
    "auth_response = requests.post(AUTH_URL, {\n",
    "    'grant_type': 'client_credentials',\n",
    "    'client_id': CLIENT_ID,\n",
    "    'client_secret': CLIENT_SECRET,\n",
    "})\n",
    "\n",
    "# convert the response to JSON\n",
    "auth_response_data = auth_response.json()\n",
    "\n",
    "# save the access token\n",
    "access_token = auth_response_data['access_token']\n",
    "headers = {\n",
    "    'Authorization': 'Bearer {token}'.format(token=access_token)\n",
    "}\n",
    "\n",
    "# base URL of all Spotify API endpoints\n",
    "BASE_URL = 'https://api.spotify.com/v1/'\n",
    "\n",
    "for i in range(df.loc[~df['track_id'].isnull()].index.values + 1, len(df)):\n",
    "    # limit year\n",
    "    try:\n",
    "        year = [y for y in year_idx if i in year_idx[y]][0]\n",
    "    except:\n",
    "        year = '2012-2021'\n",
    "    # search query\n",
    "    if pd.isna(sub['artist_y'][i]):\n",
    "        query = 'track:'+df['title'][i]+'%20artist:'+df['artist_x'][i]+'%20year:'+year+'&type=track&limit=50'\n",
    "    else:\n",
    "        query = 'track:'+df['title'][i]+'%20artist:'+df['artist_y'][i]+'%20year:'+year+'&type=track&limit=50'\n",
    "    # actual GET request with proper header\n",
    "    r = requests.get(BASE_URL + 'search?q=' + query, headers=headers)\n",
    "    \n",
    "    # traverse items returned to match title and artist\n",
    "    try:\n",
    "        for item in r.json()['tracks']['items']: \n",
    "            artist = item['artists'][0]['name']\n",
    "            if (artist in df['artist_x'][i]) or (artist in df['artist_y'][i]):\n",
    "                track_id[i] = item['id']\n",
    "                date[i] = item['album']['release_date']\n",
    "                print(i, sub['track_id'][i])\n",
    "                break\n",
    "    except:\n",
    "        pass\n",
    "\n",
    "df['track_id'] = track_id\n",
    "df['release_date'] = date"
   ]
  }
 ],
 "metadata": {
  "kernelspec": {
   "display_name": "Python 3 (ipykernel)",
   "language": "python",
   "name": "python3"
  },
  "language_info": {
   "codemirror_mode": {
    "name": "ipython",
    "version": 3
   },
   "file_extension": ".py",
   "mimetype": "text/x-python",
   "name": "python",
   "nbconvert_exporter": "python",
   "pygments_lexer": "ipython3",
   "version": "3.8.3"
  }
 },
 "nbformat": 4,
 "nbformat_minor": 5
}
