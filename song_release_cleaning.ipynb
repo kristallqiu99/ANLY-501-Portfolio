{
 "cells": [
  {
   "cell_type": "code",
   "execution_count": 62,
   "id": "2be701c3",
   "metadata": {},
   "outputs": [],
   "source": [
    "import pandas as pd\n",
    "import numpy as np\n",
    "import os\n",
    "import requests\n",
    "import re"
   ]
  },
  {
   "cell_type": "code",
   "execution_count": 53,
   "id": "a9c59e85",
   "metadata": {},
   "outputs": [],
   "source": [
    "import warnings\n",
    "warnings.filterwarnings('ignore')"
   ]
  },
  {
   "cell_type": "markdown",
   "id": "b317d6f6",
   "metadata": {},
   "source": [
    "# Concatenate yearly song releases"
   ]
  },
  {
   "cell_type": "code",
   "execution_count": 4,
   "id": "acf28c4a",
   "metadata": {},
   "outputs": [
    {
     "data": {
      "text/html": [
       "<div>\n",
       "<style scoped>\n",
       "    .dataframe tbody tr th:only-of-type {\n",
       "        vertical-align: middle;\n",
       "    }\n",
       "\n",
       "    .dataframe tbody tr th {\n",
       "        vertical-align: top;\n",
       "    }\n",
       "\n",
       "    .dataframe thead th {\n",
       "        text-align: right;\n",
       "    }\n",
       "</style>\n",
       "<table border=\"1\" class=\"dataframe\">\n",
       "  <thead>\n",
       "    <tr style=\"text-align: right;\">\n",
       "      <th></th>\n",
       "      <th>title</th>\n",
       "      <th>artist</th>\n",
       "      <th>year</th>\n",
       "    </tr>\n",
       "  </thead>\n",
       "  <tbody>\n",
       "    <tr>\n",
       "      <th>0</th>\n",
       "      <td>(I Called Her) Tennessee</td>\n",
       "      <td>Tim Dugger</td>\n",
       "      <td>2012</td>\n",
       "    </tr>\n",
       "    <tr>\n",
       "      <th>1</th>\n",
       "      <td>10,000 Reasons (Bless the Lord)</td>\n",
       "      <td>Matt Redman</td>\n",
       "      <td>2012</td>\n",
       "    </tr>\n",
       "    <tr>\n",
       "      <th>2</th>\n",
       "      <td>100 Proof</td>\n",
       "      <td>Kellie Pickler</td>\n",
       "      <td>2012</td>\n",
       "    </tr>\n",
       "    <tr>\n",
       "      <th>3</th>\n",
       "      <td>101</td>\n",
       "      <td>Alicia Keys</td>\n",
       "      <td>2012</td>\n",
       "    </tr>\n",
       "    <tr>\n",
       "      <th>4</th>\n",
       "      <td>110%</td>\n",
       "      <td>Jessie Ware</td>\n",
       "      <td>2012</td>\n",
       "    </tr>\n",
       "    <tr>\n",
       "      <th>...</th>\n",
       "      <td>...</td>\n",
       "      <td>...</td>\n",
       "      <td>...</td>\n",
       "    </tr>\n",
       "    <tr>\n",
       "      <th>20032</th>\n",
       "      <td>You're To Blame</td>\n",
       "      <td>Mammoth WVH</td>\n",
       "      <td>2021</td>\n",
       "    </tr>\n",
       "    <tr>\n",
       "      <th>20033</th>\n",
       "      <td>Young, Black And Beautiful</td>\n",
       "      <td>Chris Pierce</td>\n",
       "      <td>2021</td>\n",
       "    </tr>\n",
       "    <tr>\n",
       "      <th>20034</th>\n",
       "      <td>Younger Me</td>\n",
       "      <td>Brothers Osborne</td>\n",
       "      <td>2021</td>\n",
       "    </tr>\n",
       "    <tr>\n",
       "      <th>20035</th>\n",
       "      <td>Your Power</td>\n",
       "      <td>Billie Eilish</td>\n",
       "      <td>2021</td>\n",
       "    </tr>\n",
       "    <tr>\n",
       "      <th>20036</th>\n",
       "      <td>Zitti E Buoni</td>\n",
       "      <td>Måneskin</td>\n",
       "      <td>2021</td>\n",
       "    </tr>\n",
       "  </tbody>\n",
       "</table>\n",
       "<p>20037 rows × 3 columns</p>\n",
       "</div>"
      ],
      "text/plain": [
       "                                 title            artist  year\n",
       "0             (I Called Her) Tennessee        Tim Dugger  2012\n",
       "1      10,000 Reasons (Bless the Lord)       Matt Redman  2012\n",
       "2                            100 Proof    Kellie Pickler  2012\n",
       "3                                  101       Alicia Keys  2012\n",
       "4                                 110%       Jessie Ware  2012\n",
       "...                                ...               ...   ...\n",
       "20032                  You're To Blame       Mammoth WVH  2021\n",
       "20033       Young, Black And Beautiful      Chris Pierce  2021\n",
       "20034                       Younger Me  Brothers Osborne  2021\n",
       "20035                       Your Power     Billie Eilish  2021\n",
       "20036                    Zitti E Buoni          Måneskin  2021\n",
       "\n",
       "[20037 rows x 3 columns]"
      ]
     },
     "execution_count": 4,
     "metadata": {},
     "output_type": "execute_result"
    }
   ],
   "source": [
    "year = [i for i in range(2012, 2022)]\n",
    "\n",
    "sr = pd.read_csv('song_release/%s.csv' %year[0], index_col=False, names=['title', 'artist'])\n",
    "sr['year'] = [year[0]] * len(sr)\n",
    "\n",
    "for i in year[1:]:\n",
    "    sr_i = pd.read_csv('song_release/%s.csv' %i, index_col=False, names=['title', 'artist'])\n",
    "    sr_i['year'] = [i] * len(sr_i)\n",
    "    sr = pd.concat([sr, sr_i], ignore_index=True)\n",
    "\n",
    "# strip whitespaces\n",
    "sr['title'] = sr['title'].str.strip()\n",
    "sr['artist'] = sr['artist'].str.strip()\n",
    "sr"
   ]
  },
  {
   "cell_type": "code",
   "execution_count": 22,
   "id": "44cb4a9d",
   "metadata": {},
   "outputs": [],
   "source": [
    "sr['track_id'] = [np.nan] * len(sr)\n",
    "sr['release_date'] = [np.nan] * len(sr)\n",
    "sr['spotify.name'] = [np.nan] * len(sr)\n",
    "sr['spotify.artists'] = [np.nan] * len(sr)"
   ]
  },
  {
   "cell_type": "markdown",
   "id": "f7f4b99a",
   "metadata": {},
   "source": [
    "## Get Spotify track ID"
   ]
  },
  {
   "cell_type": "code",
   "execution_count": 44,
   "id": "bb5efd84",
   "metadata": {},
   "outputs": [],
   "source": [
    "def getArtistNameList(result_artists):\n",
    "    artists = []\n",
    "    for a in result_artists:\n",
    "        artists.append(a['name'])\n",
    "    return artists"
   ]
  },
  {
   "cell_type": "code",
   "execution_count": 92,
   "id": "66fd152d",
   "metadata": {},
   "outputs": [],
   "source": [
    "CLIENT_ID = '6ced8cf12e0c470f9d9dd25a75d4ec26'\n",
    "CLIENT_SECRET = '4ce366cebd7c42f2ac59bf96ca9f32b9'\n",
    "\n",
    "AUTH_URL = 'https://accounts.spotify.com/api/token'\n",
    "\n",
    "# POST\n",
    "auth_response = requests.post(AUTH_URL, {\n",
    "    'grant_type': 'client_credentials',\n",
    "    'client_id': CLIENT_ID,\n",
    "    'client_secret': CLIENT_SECRET,\n",
    "})\n",
    "\n",
    "# convert the response to JSON\n",
    "auth_response_data = auth_response.json()\n",
    "\n",
    "# save the access token\n",
    "access_token = auth_response_data['access_token']\n",
    "headers = {\n",
    "    'Authorization': 'Bearer {token}'.format(token=access_token)\n",
    "}\n",
    "\n",
    "# base URL of all Spotify API endpoints\n",
    "BASE_URL = 'https://api.spotify.com/v1/'"
   ]
  },
  {
   "cell_type": "markdown",
   "id": "bb32005a",
   "metadata": {},
   "source": [
    "### Search directly by title and artist"
   ]
  },
  {
   "cell_type": "code",
   "execution_count": null,
   "id": "9beb238f",
   "metadata": {},
   "outputs": [],
   "source": [
    "try:\n",
    "    start_idx = sr.loc[~sr['track_id'].isnull(),:].index.values[-1] + 1\n",
    "except:\n",
    "    start_idx = 0\n",
    "    \n",
    "for i in range(start_idx, len(sr)):\n",
    "    title = sr['title'][i]\n",
    "    artist = sr['artist'][i]\n",
    "    \n",
    "    query = 'track:\"%s\" AND artist:%s AND year:%s&type=track&limit=1'%(title,\n",
    "                                                                        artist,\n",
    "                                                                        sr['year'][i])\n",
    "\n",
    "    r = requests.get(BASE_URL + 'search?q=' + query, headers=headers).json()\n",
    "\n",
    "    try:\n",
    "        results = r['tracks']['items'][0]\n",
    "\n",
    "        artists_i = getArtistNameList(results['artists'])\n",
    "\n",
    "        for a in artists_i:\n",
    "            # deal with middle name -> match only first and last name\n",
    "            if (a.lower() in artist.lower()) or (artist.lower() in a.lower()) or\\\n",
    "            ((artist.split()[0].lower() in a.split()[0].lower()) and (artist.split()[-1].lower() in a.split()[-1].lower())):\n",
    "                #print(i, results['id'])\n",
    "                sr['track_id'][i] = results['id']\n",
    "                sr['release_date'][i] = results['album']['release_date']\n",
    "                sr['spotify.name'][i] = results['name']\n",
    "                sr['spotify.artists'][i] = artists_i\n",
    "                break\n",
    "    except:\n",
    "        pass"
   ]
  },
  {
   "cell_type": "markdown",
   "id": "20744168",
   "metadata": {},
   "source": [
    "### Search by title (cleaned) and artist"
   ]
  },
  {
   "cell_type": "code",
   "execution_count": null,
   "id": "17e5b470",
   "metadata": {
    "scrolled": true
   },
   "outputs": [],
   "source": [
    "for i in sr.loc[sr['track_id'].isnull(),:].index.values:\n",
    "    # clean title\n",
    "    title = ''.join(c for c in sr['title'][i] if c.isalnum() or c.isspace())\n",
    "    #title = ' '.join(c for c in sr['title'][i] if c.isalnum()) ## special format of titles\n",
    "    \n",
    "    artist = sr['artist'][i]\n",
    "    \n",
    "    query = 'track:\"%s\" AND artist:%s AND year:%s&type=track&limit=1'%(title,\n",
    "                                                                       artist,\n",
    "                                                                       sr['year'][i])\n",
    "\n",
    "    r = requests.get(BASE_URL + 'search?q=' + query, headers=headers).json()\n",
    "\n",
    "    try:\n",
    "        results = r['tracks']['items'][0]\n",
    "\n",
    "        artists_i = getArtistNameList(results['artists'])\n",
    "\n",
    "        for a in artists_i:\n",
    "            # deal with middle name -> match only first and last name\n",
    "            if (a.lower() in artist.lower()) or (artist.lower() in a.lower()) or\\\n",
    "            ((artist.split()[0].lower() in a.split()[0].lower()) and (artist.split()[-1].lower() in a.split()[-1].lower())):\n",
    "                #print(i, results['id'])\n",
    "                sr['track_id'][i] = results['id']\n",
    "                sr['release_date'][i] = results['album']['release_date']\n",
    "                sr['spotify.name'][i] = results['name']\n",
    "                sr['spotify.artists'][i] = artists_i\n",
    "                break\n",
    "    except:\n",
    "        pass"
   ]
  },
  {
   "cell_type": "markdown",
   "id": "357a5ffa",
   "metadata": {},
   "source": [
    "### Traverse artists for multi-artist songs with title"
   ]
  },
  {
   "cell_type": "code",
   "execution_count": null,
   "id": "72205c39",
   "metadata": {
    "scrolled": true
   },
   "outputs": [],
   "source": [
    "for i in sr.loc[sr['track_id'].isnull(),:].index.values:\n",
    "    title = sr['title'][i]\n",
    "    \n",
    "    # traverse artists for multi-artist songs\n",
    "    for artist in re.split(', | & | X | x | and ', sr['artist'][i]):\n",
    "        \n",
    "        query = 'track:\"%s\" AND artist:%s AND year:%s&type=track&limit=1'%(title,\n",
    "                                                                           artist,\n",
    "                                                                           sr['year'][i])\n",
    "\n",
    "        r = requests.get(BASE_URL + 'search?q=' + query, headers=headers).json()\n",
    "\n",
    "        try:\n",
    "            results = results = r['tracks']['items'][0]\n",
    "            \n",
    "            artists_i = getArtistNameList(results['artists'])\n",
    "\n",
    "            for a in artists_i:\n",
    "            # deal with middle name -> match only first and last name\n",
    "                if (a.lower() in artist.lower()) or (artist.lower() in a.lower()) or\\\n",
    "                ((artist.split()[0].lower() in a.split()[0].lower()) and (artist.split()[-1].lower() in a.split()[-1].lower())):\n",
    "                    #print(i, results['id'])\n",
    "                    sr['track_id'][i] = results['id']\n",
    "                    sr['release_date'][i] = results['album']['release_date']\n",
    "                    sr['spotify.name'][i] = results['name']\n",
    "                    sr['spotify.artists'][i] = artists_i\n",
    "                    break\n",
    "            break\n",
    "        except:\n",
    "            pass\n",
    "    "
   ]
  },
  {
   "cell_type": "markdown",
   "id": "25d98dbf",
   "metadata": {},
   "source": [
    "### Search by title with artist traversal with title (cleaned)"
   ]
  },
  {
   "cell_type": "code",
   "execution_count": 43,
   "id": "6955e3fb",
   "metadata": {
    "scrolled": true
   },
   "outputs": [],
   "source": [
    "for i in sr.loc[sr['track_id'].isnull(),:].index.values:\n",
    "    # clean title\n",
    "    title = ''.join(c for c in sr['title'][i] if c.isalnum() or c.isspace())\n",
    "    #title = ' '.join(c for c in sr['title'][i] if c.isalnum()) ## special format of titles\n",
    "    \n",
    "    # traverse artists for multi-artist songs\n",
    "    for artist in re.split(', | & | X | x | and ', sr['artist'][i]):\n",
    "        # direct search by title and artist\n",
    "        query = 'track:\"%s\" AND artist:%s AND year:%s&type=track&limit=1'%(sr['title'][i],\n",
    "                                                                            artist,\n",
    "                                                                            sr['year'][i])\n",
    "        # not specify year\n",
    "        ##query = 'track:\"%s\" AND artist:%s&type=track&limit=50'%(title, artist)\n",
    "\n",
    "        r = requests.get(BASE_URL + 'search?q=' + query, headers=headers).json()\n",
    "        \n",
    "        try:\n",
    "            results = r['tracks']['items'][0]\n",
    "\n",
    "            artists_i = getArtistNameList(results['artists'])\n",
    "\n",
    "            for a in artists_i:\n",
    "                # deal with middle name -> match only first and last name\n",
    "                if (a.lower() in artist.lower()) or (artist.lower() in a.lower()) or\\\n",
    "                ((artist.split()[0].lower() in a.split()[0].lower()) and (artist.split()[-1].lower() in a.split()[-1].lower())):\n",
    "                    #print(i, results['id'])\n",
    "                    sr['track_id'][i] = results['id']\n",
    "                    sr['release_date'][i] = results['album']['release_date']\n",
    "                    sr['spotify.name'][i] = results['name']\n",
    "                    sr['spotify.artists'][i] = artists_i\n",
    "                    break\n",
    "            break\n",
    "        except:\n",
    "            pass"
   ]
  },
  {
   "cell_type": "markdown",
   "id": "7761c933",
   "metadata": {},
   "source": [
    "### Search without specifying year"
   ]
  },
  {
   "cell_type": "code",
   "execution_count": null,
   "id": "0d461671",
   "metadata": {
    "scrolled": true
   },
   "outputs": [],
   "source": [
    "for i in sr.loc[sr['track_id'].isnull(),:].index.values:\n",
    "    # clean title\n",
    "    title = ''.join(c for c in sr['title'][i] if c.isalnum() or c.isspace())\n",
    "    #title = ' '.join(c for c in sr['title'][i] if c.isalnum()) ## special format of titles\n",
    "    \n",
    "    # traverse artists for multi-artist songs\n",
    "    for artist in re.split(', | & | X | x | and ', sr['artist'][i]):\n",
    "        # direct search by title and artist\n",
    "        #query = 'track:\"%s\" AND artist:%s AND year:%s&type=track&limit=50'%(title,\n",
    "                                                                            #artist,\n",
    "                                                                            #sr['year'][i])\n",
    "        # not specify year\n",
    "        query = 'track:\"%s\" AND artist:%s&type=track&limit=1'%(title, artist)\n",
    "\n",
    "        r = requests.get(BASE_URL + 'search?q=' + query, headers=headers).json()\n",
    "        \n",
    "        try:\n",
    "            results = r['tracks']['items'][0]\n",
    "            \n",
    "            artists_i = getArtistNameList(results['artists'])\n",
    "\n",
    "            for a in artists_i:\n",
    "                # deal with middle name -> match only first and last name\n",
    "                if (a.lower() in artist.lower()) or (artist.lower() in a.lower()) or\\\n",
    "                ((artist.split()[0].lower() in a.split()[0].lower()) and (artist.split()[-1].lower() in a.split()[-1].lower())):\n",
    "                    #print(i, results['id'])\n",
    "                    sr['track_id'][i] = results['id']\n",
    "                    sr['release_date'][i] = results['album']['release_date']\n",
    "                    sr['spotify.name'][i] = results['name']\n",
    "                    sr['spotify.artists'][i] = artists_i\n",
    "                    break\n",
    "            break\n",
    "        except:\n",
    "            pass"
   ]
  },
  {
   "cell_type": "markdown",
   "id": "6625a829",
   "metadata": {},
   "source": [
    "### Search title with special format"
   ]
  },
  {
   "cell_type": "code",
   "execution_count": null,
   "id": "7c4bcd89",
   "metadata": {
    "scrolled": true
   },
   "outputs": [],
   "source": [
    "for i in sr.loc[sr['track_id'].isnull(),:].index.values:\n",
    "    # clean title\n",
    "    #title = ''.join(c for c in sr['title'][i] if c.isalnum() or c.isspace())\n",
    "    title = ' '.join(c for c in sr['title'][i] if c.isalnum()) ## special format of titles\n",
    "    \n",
    "    # traverse artists for multi-artist songs\n",
    "    for artist in re.split(', | & | X | x | and ', sr['artist'][i]):\n",
    "        # direct search by title and artist\n",
    "        query = 'track:\"%s\" AND artist:%s AND year:%s&type=track&limit=1'%(title,\n",
    "                                                                            artist,\n",
    "                                                                            sr['year'][i])\n",
    "        # not specify year\n",
    "        ##query = 'track:\"%s\" AND artist:%s&type=track&limit=50'%(title, artist)\n",
    "\n",
    "        r = requests.get(BASE_URL + 'search?q=' + query, headers=headers).json()\n",
    "        \n",
    "        try:\n",
    "            results = pd.json_normalize(r['tracks']['items']).sort_values('album.release_date', ignore_index=True)\n",
    "\n",
    "            for j in range(len(results)):\n",
    "                artists_i = getArtistNameList(results['artists'][j])\n",
    "\n",
    "                for a in artists_i:\n",
    "                    # deal with middle name -> match only first and last name\n",
    "                    if (a.lower() in artist.lower()) or (artist.lower() in a.lower()) or\\\n",
    "                    ((artist.split()[0].lower() in a.split()[0].lower()) and (artist.split()[-1].lower() in a.split()[-1].lower())):\n",
    "                        #print(i, results['id'][j])\n",
    "                        sr['track_id'][i] = results['id'][j]\n",
    "                        sr['release_date'][i] = results['album.release_date'][j]\n",
    "                        sr['spotify.name'][i] = results['name'][j]\n",
    "                        sr['spotify.artists'][i] = artists_i\n",
    "                        break\n",
    "                break\n",
    "            break\n",
    "        except:\n",
    "            pass"
   ]
  },
  {
   "cell_type": "markdown",
   "id": "2d2c1225",
   "metadata": {},
   "source": [
    "### Check title differences"
   ]
  },
  {
   "cell_type": "code",
   "execution_count": null,
   "id": "27515299",
   "metadata": {},
   "outputs": [],
   "source": [
    "'''\n",
    "title_dif_idx = []\n",
    "for i in sr.loc[~sr['track_id'].isnull()].index.values:\n",
    "    if sr['title'][i].lower() not in sr['spotify.name'][i].lower():\n",
    "        title_dif_idx.append(i)\n",
    "\n",
    "title_dif = sr.iloc[title_dif_idx]\n",
    "#title_dif.to_excel('new_spotify_correct_title_dif.xlsx')\n",
    "\n",
    "new_title_dif = pd.read_excel('title_dif.xlsx')\n",
    "sr.iloc[new_title_dif['Unnamed: 0'].values, [3,4,5,6]] = new_title_dif.iloc[:,[4,5,6,7]].values\n",
    "'''"
   ]
  },
  {
   "cell_type": "markdown",
   "id": "190d2fdd",
   "metadata": {},
   "source": [
    "### Check duplicate track IDs"
   ]
  },
  {
   "cell_type": "code",
   "execution_count": 75,
   "id": "0b50b151",
   "metadata": {},
   "outputs": [],
   "source": [
    "'''\n",
    "dup = sr[sr.duplicated(['track_id'],keep=False)]\n",
    "dup = dup.loc[~dup['track_id'].isnull()]\n",
    "dup\n",
    "#dup.to_excel('new_spotify_correct_dup.xlsx')\n",
    "\n",
    "new_dup = pd.read_excel('new_spotify_correct_dup2.xlsx')\n",
    "sr.iloc[new_dup['Unnamed: 0'].values, [3,4,5,6]] = new_dup.iloc[:,[4,5,6,7]].values\n",
    "'''"
   ]
  },
  {
   "cell_type": "markdown",
   "id": "efeccda0",
   "metadata": {},
   "source": [
    "### Check year and release_date discrepancies"
   ]
  },
  {
   "cell_type": "code",
   "execution_count": 78,
   "id": "65bc8b2c",
   "metadata": {
    "scrolled": false
   },
   "outputs": [],
   "source": [
    "'''\n",
    "year_dif = sr.loc[(~sr['release_date'].isnull())]\n",
    "year_dif = year_dif.loc[year_dif['release_date'].str.len()>4]\n",
    "year_dif = year_dif.loc[abs(year_dif['year']-year_dif['release_date'].str[:4].astype(int))>=1]\n",
    "\n",
    "#year_dif.to_excel('new_spotify_year_dif.xlsx')\n",
    "\n",
    "new_year_dif = pd.read_excel('year_dif.xlsx')\n",
    "sr.iloc[new_year_dif['Unnamed: 0'].values, [3,4,5,6]] = new_year_dif.iloc[:,[4,5,6,7]].values\n",
    "'''"
   ]
  },
  {
   "cell_type": "markdown",
   "id": "c8afce4c",
   "metadata": {},
   "source": [
    "### Null values"
   ]
  },
  {
   "cell_type": "code",
   "execution_count": null,
   "id": "f6ee0567",
   "metadata": {},
   "outputs": [],
   "source": [
    "'''sr.loc[sr['track_id'].isnull()].to_excel('new_spotify_correct_null.xlsx')\n",
    "new_null = pd.read_excel('new_spotify_correct_null.xlsx')\n",
    "\n",
    "new_null['track_id'] = new_null['track_id'].str.replace('https://open.spotify.com/track/','')\n",
    "\n",
    "for i in range(len(new_null)):\n",
    "    if new_null['track_id'][i] is not np.nan:\n",
    "        new_null['track_id'][i] = new_null['track_id'][i].split('?si=')[0]\n",
    "        \n",
    "sr.iloc[new_null['Unnamed: 0'].values, [3,4,5,6]] = new_null.iloc[:,[4,5,6,7]].values'''"
   ]
  },
  {
   "cell_type": "code",
   "execution_count": 104,
   "id": "1f19d443",
   "metadata": {},
   "outputs": [],
   "source": [
    "#sr.dropna(subset=['track_id']).to_csv('get_id/song_release_ID.csv', index=False)\n",
    "#sr.dropna(subset=['track_id']).to_excel('get_id/song_release_ID.xlsx', index=False)"
   ]
  },
  {
   "cell_type": "markdown",
   "id": "9068bbaf",
   "metadata": {},
   "source": [
    "## Get track information"
   ]
  },
  {
   "cell_type": "code",
   "execution_count": 93,
   "id": "16cdb6d5",
   "metadata": {},
   "outputs": [],
   "source": [
    "sr = pd.read_csv('song_release_ID_filled.csv').iloc[:,0:4]\n",
    "\n",
    "# initialize track_info dataframe\n",
    "track_info = pd.DataFrame(columns=['artists', 'available_markets', 'disc_number', 'duration_ms',\n",
    "       'explicit', 'href', 'id', 'is_local', 'name', 'popularity',\n",
    "       'preview_url', 'track_number', 'type', 'uri', 'album.album_type',\n",
    "       'album.artists', 'album.available_markets',\n",
    "       'album.external_urls.spotify', 'album.href', 'album.id', 'album.images',\n",
    "       'album.name', 'album.release_date', 'album.release_date_precision',\n",
    "       'album.total_tracks', 'album.type', 'album.uri', 'external_ids.isrc',\n",
    "       'external_urls.spotify'])\n",
    "\n",
    "\n",
    "for i in range(len(track_info), len(sr), 50):\n",
    "    if not i+50 > len(sr):\n",
    "        ids = ','.join(sr['track_id'][i:i+50])\n",
    "    else:\n",
    "        ids = ','.join(sr['track_id'][i:])\n",
    "        \n",
    "    r = requests.get(BASE_URL + 'tracks?ids=' + ids , headers=headers)\n",
    "    \n",
    "    track_info = pd.concat([track_info, pd.json_normalize(r.json()['tracks'])],\n",
    "                               ignore_index=True)"
   ]
  },
  {
   "cell_type": "code",
   "execution_count": 94,
   "id": "f74bad3f",
   "metadata": {},
   "outputs": [],
   "source": [
    "def getArtistName(artists_list):\n",
    "    artists = []\n",
    "    for a in artists_list:\n",
    "        artists.append(a['name'])\n",
    "    return ', '.join(artists)\n",
    "\n",
    "track_info_clean = track_info[['name','artists','id','album.release_date']]\n",
    "\n",
    "for i in range(len(track_info_clean)):\n",
    "    track_info_clean['artists'][i] = getArtistName(track_info_clean['artists'][i])"
   ]
  },
  {
   "cell_type": "code",
   "execution_count": 100,
   "id": "6f3ed147",
   "metadata": {},
   "outputs": [],
   "source": [
    "sr.merge(track_info_clean, left_on='track_id', right_on='id').to_csv('song_release_ID_spotify.csv', index=False)"
   ]
  }
 ],
 "metadata": {
  "kernelspec": {
   "display_name": "Python 3 (ipykernel)",
   "language": "python",
   "name": "python3"
  },
  "language_info": {
   "codemirror_mode": {
    "name": "ipython",
    "version": 3
   },
   "file_extension": ".py",
   "mimetype": "text/x-python",
   "name": "python",
   "nbconvert_exporter": "python",
   "pygments_lexer": "ipython3",
   "version": "3.8.2"
  }
 },
 "nbformat": 4,
 "nbformat_minor": 5
}
